{
  "nbformat": 4,
  "nbformat_minor": 0,
  "metadata": {
    "colab": {
      "provenance": []
    },
    "kernelspec": {
      "name": "python3",
      "display_name": "Python 3"
    },
    "language_info": {
      "name": "python"
    }
  },
  "cells": [
    {
      "cell_type": "code",
      "execution_count": null,
      "metadata": {
        "colab": {
          "base_uri": "https://localhost:8080/"
        },
        "id": "DAcZHliXVqPS",
        "outputId": "181b2e67-4b7f-4723-960f-049aa2509052"
      },
      "outputs": [
        {
          "output_type": "stream",
          "name": "stdout",
          "text": [
            "aaabbbccc\n"
          ]
        }
      ],
      "source": [
        "#assignment question 2\n",
        "mulnum =3\n",
        "a = \"abc\"\n",
        "res=\"\"\n",
        "\n",
        "for char in a:\n",
        "    res += char*mulnum\n",
        "\n",
        "print(res)\n"
      ]
    },
    {
      "cell_type": "code",
      "source": [
        "#qustion sort\n",
        "arr = [1,5,3,2]\n",
        "arr2 =[8,10,4]\n",
        "print(\"before sort\")\n",
        "\n",
        "fullarr = arr + arr2\n",
        "print(fullarr)\n",
        "for i in range(len(fullarr)):\n",
        "    for j in range(i+1,len(fullarr)):\n",
        "        if fullarr[i] > fullarr[j]:\n",
        "            fullarr[i],fullarr[j] = fullarr[j],fullarr[i]\n",
        "print(\"after sort\")\n",
        "print(fullarr)"
      ],
      "metadata": {
        "colab": {
          "base_uri": "https://localhost:8080/"
        },
        "id": "Rm-4RXOKXX7R",
        "outputId": "ecf7d8cc-3bf4-4f72-9efd-2beed665dc64"
      },
      "execution_count": null,
      "outputs": [
        {
          "output_type": "stream",
          "name": "stdout",
          "text": [
            "before sort\n",
            "[1, 5, 3, 2, 8, 10, 4]\n",
            "after sort\n",
            "[1, 2, 3, 4, 5, 8, 10]\n"
          ]
        }
      ]
    },
    {
      "cell_type": "code",
      "source": [
        "# another example\n",
        "#qustion sort\n",
        "arr = [3,1,4]\n",
        "arr2 =[2,5,0]\n",
        "print(\"before sort\")\n",
        "\n",
        "fullarr = arr + arr2\n",
        "print(fullarr)\n",
        "for i in range(len(fullarr)):\n",
        "    for j in range(i+1,len(fullarr)):\n",
        "        if fullarr[i] > fullarr[j]:\n",
        "            fullarr[i],fullarr[j] = fullarr[j],fullarr[i]\n",
        "print(\"after sort\")\n",
        "print(fullarr)"
      ],
      "metadata": {
        "colab": {
          "base_uri": "https://localhost:8080/"
        },
        "id": "qU68LY-XZ7b3",
        "outputId": "6ddc4434-10a5-4a22-bb6f-cc9396a8be85"
      },
      "execution_count": null,
      "outputs": [
        {
          "output_type": "stream",
          "name": "stdout",
          "text": [
            "before sort\n",
            "[3, 1, 4, 2, 5, 0]\n",
            "after sort\n",
            "[0, 1, 2, 3, 4, 5]\n"
          ]
        }
      ]
    }
  ]
}