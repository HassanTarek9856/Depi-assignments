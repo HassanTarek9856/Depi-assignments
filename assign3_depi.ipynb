{
  "nbformat": 4,
  "nbformat_minor": 0,
  "metadata": {
    "colab": {
      "provenance": []
    },
    "kernelspec": {
      "name": "python3",
      "display_name": "Python 3"
    },
    "language_info": {
      "name": "python"
    }
  },
  "cells": [
    {
      "cell_type": "code",
      "execution_count": 10,
      "metadata": {
        "id": "FAnDb-2M7Ka9"
      },
      "outputs": [],
      "source": [
        "# count vowels question\n",
        "def countVowels(str):\n",
        "  count = 0\n",
        "  vowels = 'aeiou'\n",
        "  for st in str.lower():\n",
        "    if st in vowels:\n",
        "      count += 1\n",
        "  return count\n",
        "\n"
      ]
    },
    {
      "cell_type": "code",
      "source": [
        "text = \"hello world\"\n",
        "print(f\"count of vowels are {countVowels(text)}\")"
      ],
      "metadata": {
        "colab": {
          "base_uri": "https://localhost:8080/"
        },
        "id": "31jhpvZe-CGB",
        "outputId": "6cbe4b72-7158-4b2f-9cfe-dcb18cc3ece8"
      },
      "execution_count": 11,
      "outputs": [
        {
          "output_type": "stream",
          "name": "stdout",
          "text": [
            "count of vowels are 3\n"
          ]
        }
      ]
    },
    {
      "cell_type": "code",
      "source": [
        "text2 ='marchi and janu'\n",
        "print(f\"count of vowels are {countVowels(text2)}\")"
      ],
      "metadata": {
        "colab": {
          "base_uri": "https://localhost:8080/"
        },
        "id": "fNoQJAqX-FEX",
        "outputId": "23741cd8-23ce-4629-82c1-3a700a1b6d95"
      },
      "execution_count": 12,
      "outputs": [
        {
          "output_type": "stream",
          "name": "stdout",
          "text": [
            "count of vowels are 5\n"
          ]
        }
      ]
    },
    {
      "cell_type": "code",
      "source": [
        "# find max question\n",
        "def findMax(nums):\n",
        "  if len(nums) == 0:\n",
        "    return None\n",
        "  maxnum = nums[0]\n",
        "\n",
        "  for number in nums:\n",
        "    if number > maxnum:\n",
        "      maxnum = number\n",
        "  return maxnum\n"
      ],
      "metadata": {
        "id": "NerVBiyP-drC"
      },
      "execution_count": 22,
      "outputs": []
    },
    {
      "cell_type": "code",
      "source": [
        "theNumbers = [3, 5, 2, 8, 1,20]\n",
        "print(f\"max number is {findMax(theNumbers)}\")"
      ],
      "metadata": {
        "colab": {
          "base_uri": "https://localhost:8080/"
        },
        "id": "JT85xUrd_fz-",
        "outputId": "ceff8054-69d7-4a0c-f528-4d20da22bb93"
      },
      "execution_count": 21,
      "outputs": [
        {
          "output_type": "stream",
          "name": "stdout",
          "text": [
            "max number is 20\n"
          ]
        }
      ]
    },
    {
      "cell_type": "code",
      "source": [
        "theNumbers = []\n",
        "print(f\"max number is {findMax(theNumbers)}\")"
      ],
      "metadata": {
        "colab": {
          "base_uri": "https://localhost:8080/"
        },
        "id": "64O-iWcO_o6k",
        "outputId": "a55b546c-eafb-43c7-d2ae-935d46cc4ee4"
      },
      "execution_count": 20,
      "outputs": [
        {
          "output_type": "stream",
          "name": "stdout",
          "text": [
            "max number is None\n"
          ]
        }
      ]
    },
    {
      "cell_type": "code",
      "source": [],
      "metadata": {
        "id": "cMDzFUym_9f5"
      },
      "execution_count": null,
      "outputs": []
    }
  ]
}